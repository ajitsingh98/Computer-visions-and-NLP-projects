{
 "cells": [
  {
   "cell_type": "markdown",
   "metadata": {},
   "source": [
    "# Autonomous driving - Car detection"
   ]
  },
  {
   "cell_type": "markdown",
   "metadata": {},
   "source": [
    "\n",
    "Welcome to your week 3 programming assignment. You will learn about object detection using the very powerful YOLO model. Many of the ideas in this notebook are described in the two YOLO papers: [Redmon et al., 2016](https://arxiv.org/abs/1506.02640) and [Redmon and Farhadi, 2016](https://arxiv.org/abs/1612.08242). \n",
    "\n",
    "**You will learn to**:\n",
    "- Use object detection on a car detection dataset\n",
    "- Deal with bounding boxes\n"
   ]
  },
  {
   "cell_type": "markdown",
   "metadata": {},
   "source": [
    "## Import libraries\n",
    "Run the following cell to load the packages and dependencies that you will find useful as you build the object detector!"
   ]
  },
  {
   "cell_type": "code",
   "execution_count": 3,
   "metadata": {},
   "outputs": [],
   "source": [
    "import numpy as np\n",
    "import argparse\n",
    "import cv2 as cv\n",
    "import subprocess\n",
    "import time\n",
    "import os\n",
    "\n",
    "def show_image(img):\n",
    "    cv.imshow(\"Image\", img)\n",
    "    cv.waitKey(0)\n",
    "\n",
    "def draw_labels_and_boxes(img, boxes, confidences, classids, idxs, colors, labels):\n",
    "    # If there are any detections\n",
    "    if len(idxs) > 0:\n",
    "        for i in idxs.flatten():\n",
    "            # Get the bounding box coordinates\n",
    "            x, y = boxes[i][0], boxes[i][1]\n",
    "            w, h = boxes[i][2], boxes[i][3]\n",
    "            \n",
    "            # Get the unique color for this class\n",
    "            color = [int(c) for c in colors[classids[i]]]\n",
    "\n",
    "            # Draw the bounding box rectangle and label on the image\n",
    "            cv.rectangle(img, (x, y), (x+w, y+h), color, 2)\n",
    "            text = \"{}: {:4f}\".format(labels[classids[i]], confidences[i])\n",
    "            cv.putText(img, text, (x, y-5), cv.FONT_HERSHEY_SIMPLEX, 0.5, color, 2)\n",
    "\n",
    "    return img\n",
    "\n",
    "\n",
    "def generate_boxes_confidences_classids(outs, height, width, tconf):\n",
    "    boxes = []\n",
    "    confidences = []\n",
    "    classids = []\n",
    "\n",
    "    for out in outs:\n",
    "        for detection in out:\n",
    "            #print (detection)\n",
    "            #a = input('GO!')\n",
    "            \n",
    "            # Get the scores, classid, and the confidence of the prediction\n",
    "            scores = detection[5:]\n",
    "            classid = np.argmax(scores)\n",
    "            confidence = scores[classid]\n",
    "            \n",
    "            # Consider only the predictions that are above a certain confidence level\n",
    "            if confidence > tconf:\n",
    "                # TODO Check detection\n",
    "                box = detection[0:4] * np.array([width, height, width, height])\n",
    "                centerX, centerY, bwidth, bheight = box.astype('int')\n",
    "\n",
    "                # Using the center x, y coordinates to derive the top\n",
    "                # and the left corner of the bounding box\n",
    "                x = int(centerX - (bwidth / 2))\n",
    "                y = int(centerY - (bheight / 2))\n",
    "\n",
    "                # Append to list\n",
    "                boxes.append([x, y, int(bwidth), int(bheight)])\n",
    "                confidences.append(float(confidence))\n",
    "                classids.append(classid)\n",
    "\n",
    "    return boxes, confidences, classids\n",
    "\n",
    "def infer_image(net, layer_names, height, width, img, colors, labels, FLAGS, \n",
    "            boxes=None, confidences=None, classids=None, idxs=None, infer=True):\n",
    "    \n",
    "    if infer:\n",
    "        # Contructing a blob from the input image\n",
    "        blob = cv.dnn.blobFromImage(img, 1 / 255.0, (416, 416), \n",
    "                        swapRB=True, crop=False)\n",
    "\n",
    "        # Perform a forward pass of the YOLO object detector\n",
    "        net.setInput(blob)\n",
    "\n",
    "        # Getting the outputs from the output layers\n",
    "        start = time.time()\n",
    "        outs = net.forward(layer_names)\n",
    "        end = time.time()\n",
    "\n",
    "        if FLAGS.show_time:\n",
    "            print (\"[INFO] YOLOv3 took {:6f} seconds\".format(end - start))\n",
    "\n",
    "        \n",
    "        # Generate the boxes, confidences, and classIDs\n",
    "        boxes, confidences, classids = generate_boxes_confidences_classids(outs, height, width, FLAGS.confidence)\n",
    "        \n",
    "        # Apply Non-Maxima Suppression to suppress overlapping bounding boxes\n",
    "        idxs = cv.dnn.NMSBoxes(boxes, confidences, FLAGS.confidence, FLAGS.threshold)\n",
    "\n",
    "    if boxes is None or confidences is None or idxs is None or classids is None:\n",
    "        raise '[ERROR] Required variables are set to None before drawing boxes on images.'\n",
    "        \n",
    "    # Draw labels and boxes on the image\n",
    "    img = draw_labels_and_boxes(img, boxes, confidences, classids, idxs, colors, labels)\n",
    "\n",
    "    return img, boxes, confidences, classids, idxs"
   ]
  },
  {
   "cell_type": "code",
   "execution_count": 4,
   "metadata": {},
   "outputs": [
    {
     "name": "stdout",
     "output_type": "stream",
     "text": [
      "Collecting yolo34py\n",
      "  Using cached https://files.pythonhosted.org/packages/fa/25/91792cac161adf97d0dd9c0954c0f2c9d8c93bf9c5404ddff9fcd4b58ecf/yolo34py-0.1rc12.tar.gz\n"
     ]
    },
    {
     "name": "stderr",
     "output_type": "stream",
     "text": [
      "    ERROR: Command errored out with exit status 1:\n",
      "     command: 'c:\\users\\ajit kumar singh\\anaconda3\\python.exe' -c 'import sys, setuptools, tokenize; sys.argv[0] = '\"'\"'C:\\\\Users\\\\AJITKU~1\\\\AppData\\\\Local\\\\Temp\\\\pip-install-268oi7uo\\\\yolo34py\\\\setup.py'\"'\"'; __file__='\"'\"'C:\\\\Users\\\\AJITKU~1\\\\AppData\\\\Local\\\\Temp\\\\pip-install-268oi7uo\\\\yolo34py\\\\setup.py'\"'\"';f=getattr(tokenize, '\"'\"'open'\"'\"', open)(__file__);code=f.read().replace('\"'\"'\\r\\n'\"'\"', '\"'\"'\\n'\"'\"');f.close();exec(compile(code, __file__, '\"'\"'exec'\"'\"'))' egg_info --egg-base 'C:\\Users\\AJITKU~1\\AppData\\Local\\Temp\\pip-install-268oi7uo\\yolo34py\\pip-egg-info'\n",
      "         cwd: C:\\Users\\AJITKU~1\\AppData\\Local\\Temp\\pip-install-268oi7uo\\yolo34py\\\n",
      "    Complete output (11 lines):\n",
      "    Traceback (most recent call last):\n",
      "      File \"<string>\", line 1, in <module>\n",
      "      File \"C:\\Users\\AJITKU~1\\AppData\\Local\\Temp\\pip-install-268oi7uo\\yolo34py\\setup.py\", line 47, in <module>\n",
      "        if USE_CV & (get_libs(\"opencv\") == '' or get_cflags(\"opencv\") == ''):\n",
      "      File \"C:\\Users\\AJITKU~1\\AppData\\Local\\Temp\\pip-install-268oi7uo\\yolo34py\\util.py\", line 85, in get_libs\n",
      "        proc = subprocess.Popen(shlex.split(command), stdout=subprocess.PIPE, stderr=subprocess.PIPE)\n",
      "      File \"c:\\users\\ajit kumar singh\\anaconda3\\lib\\subprocess.py\", line 775, in __init__\n",
      "        restore_signals, start_new_session)\n",
      "      File \"c:\\users\\ajit kumar singh\\anaconda3\\lib\\subprocess.py\", line 1178, in _execute_child\n",
      "        startupinfo)\n",
      "    FileNotFoundError: [WinError 2] The system cannot find the file specified\n",
      "    ----------------------------------------\n",
      "ERROR: Command errored out with exit status 1: python setup.py egg_info Check the logs for full command output.\n"
     ]
    },
    {
     "ename": "ModuleNotFoundError",
     "evalue": "No module named 'yolo_utils'",
     "output_type": "error",
     "traceback": [
      "\u001b[1;31m---------------------------------------------------------------------------\u001b[0m",
      "\u001b[1;31mModuleNotFoundError\u001b[0m                       Traceback (most recent call last)",
      "\u001b[1;32m<ipython-input-4-2c3b67b5d4cd>\u001b[0m in \u001b[0;36m<module>\u001b[1;34m\u001b[0m\n\u001b[0;32m     13\u001b[0m \u001b[1;32mfrom\u001b[0m \u001b[0mkeras\u001b[0m\u001b[1;33m.\u001b[0m\u001b[0mmodels\u001b[0m \u001b[1;32mimport\u001b[0m \u001b[0mload_model\u001b[0m\u001b[1;33m,\u001b[0m \u001b[0mModel\u001b[0m\u001b[1;33m\u001b[0m\u001b[1;33m\u001b[0m\u001b[0m\n\u001b[0;32m     14\u001b[0m \u001b[0mget_ipython\u001b[0m\u001b[1;33m(\u001b[0m\u001b[1;33m)\u001b[0m\u001b[1;33m.\u001b[0m\u001b[0msystem\u001b[0m\u001b[1;33m(\u001b[0m\u001b[1;34m'pip install yolo34py'\u001b[0m\u001b[1;33m)\u001b[0m\u001b[1;33m\u001b[0m\u001b[1;33m\u001b[0m\u001b[0m\n\u001b[1;32m---> 15\u001b[1;33m \u001b[1;32mfrom\u001b[0m \u001b[0myolo_utils\u001b[0m \u001b[1;32mimport\u001b[0m \u001b[0mread_classes\u001b[0m\u001b[1;33m,\u001b[0m \u001b[0mread_anchors\u001b[0m\u001b[1;33m,\u001b[0m \u001b[0mgenerate_colors\u001b[0m\u001b[1;33m,\u001b[0m \u001b[0mpreprocess_image\u001b[0m\u001b[1;33m,\u001b[0m \u001b[0mdraw_boxes\u001b[0m\u001b[1;33m,\u001b[0m \u001b[0mscale_boxes\u001b[0m\u001b[1;33m\u001b[0m\u001b[1;33m\u001b[0m\u001b[0m\n\u001b[0m\u001b[0;32m     16\u001b[0m \u001b[1;32mfrom\u001b[0m \u001b[0myad2k\u001b[0m\u001b[1;33m.\u001b[0m\u001b[0mmodels\u001b[0m\u001b[1;33m.\u001b[0m\u001b[0mkeras_yolo\u001b[0m \u001b[1;32mimport\u001b[0m \u001b[0myolo_head\u001b[0m\u001b[1;33m,\u001b[0m \u001b[0myolo_boxes_to_corners\u001b[0m\u001b[1;33m,\u001b[0m \u001b[0mpreprocess_true_boxes\u001b[0m\u001b[1;33m,\u001b[0m \u001b[0myolo_loss\u001b[0m\u001b[1;33m,\u001b[0m \u001b[0myolo_body\u001b[0m\u001b[1;33m\u001b[0m\u001b[1;33m\u001b[0m\u001b[0m\n\u001b[0;32m     17\u001b[0m \u001b[1;33m\u001b[0m\u001b[0m\n",
      "\u001b[1;31mModuleNotFoundError\u001b[0m: No module named 'yolo_utils'"
     ]
    }
   ],
   "source": [
    "import argparse\n",
    "import os\n",
    "import matplotlib.pyplot as plt\n",
    "from matplotlib.pyplot import imshow\n",
    "import scipy.io\n",
    "import scipy.misc\n",
    "import numpy as np\n",
    "import pandas as pd\n",
    "import PIL\n",
    "import tensorflow as tf\n",
    "from keras import backend as K\n",
    "from keras.layers import Input, Lambda, Conv2D\n",
    "from keras.models import load_model, Model\n",
    "!pip install yolo34py\n",
    "from yolo_utils import read_classes, read_anchors, generate_colors, preprocess_image, draw_boxes, scale_boxes\n",
    "from yad2k.models.keras_yolo import yolo_head, yolo_boxes_to_corners, preprocess_true_boxes, yolo_loss, yolo_body\n",
    "\n",
    "%matplotlib inline"
   ]
  },
  {
   "cell_type": "code",
   "execution_count": null,
   "metadata": {},
   "outputs": [],
   "source": []
  }
 ],
 "metadata": {
  "kernelspec": {
   "display_name": "Python 3",
   "language": "python",
   "name": "python3"
  },
  "language_info": {
   "codemirror_mode": {
    "name": "ipython",
    "version": 3
   },
   "file_extension": ".py",
   "mimetype": "text/x-python",
   "name": "python",
   "nbconvert_exporter": "python",
   "pygments_lexer": "ipython3",
   "version": "3.7.3"
  }
 },
 "nbformat": 4,
 "nbformat_minor": 2
}
